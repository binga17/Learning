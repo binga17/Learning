{
 "cells": [
  {
   "cell_type": "code",
   "execution_count": 2,
   "id": "f374f528-1f20-4c1f-acd0-58098d023333",
   "metadata": {},
   "outputs": [],
   "source": [
    "import pandas as pd\n",
    "from scipy.stats import ttest_ind, levene"
   ]
  },
  {
   "cell_type": "code",
   "execution_count": 16,
   "id": "e2a847b1-8018-445e-b356-92cdcb30ec29",
   "metadata": {},
   "outputs": [],
   "source": [
    "#loading the raw data\n",
    "file_path = r\"/Users/binga17/Downloads/MSBA/3rd sem/Financial Analytics/Assignments/Walmart_Sales.xlsx\"\n",
    "df = pd.read_excel(file_path, sheet_name=\"Walmart_Sales\")"
   ]
  },
  {
   "cell_type": "code",
   "execution_count": 18,
   "id": "50fc493b-a207-4ae6-8533-4e84b5fefc57",
   "metadata": {},
   "outputs": [],
   "source": [
    "#selecting the two stores to compare between them\n",
    "store1 = df[df[\"Store\"] == 1][\"Weekly_Sales\"].dropna()\n",
    "store2 = df[df[\"Store\"] == 2][\"Weekly_Sales\"].dropna()"
   ]
  },
  {
   "cell_type": "code",
   "execution_count": 22,
   "id": "facad99e-8019-4a4c-9206-35507ff5958d",
   "metadata": {},
   "outputs": [
    {
     "name": "stdout",
     "output_type": "stream",
     "text": [
      "Store 1 mean sales: 1555264.3975524476\n",
      "Store 2 mean sales: 1925751.3355244752\n"
     ]
    }
   ],
   "source": [
    "#basic summaries\n",
    "print(\"Store 1 mean sales:\", store1.mean())\n",
    "print(\"Store 2 mean sales:\", store2.mean())"
   ]
  },
  {
   "cell_type": "code",
   "execution_count": 24,
   "id": "b9101f75-2f2a-4d92-bcee-cb797fa409fb",
   "metadata": {},
   "outputs": [
    {
     "name": "stdout",
     "output_type": "stream",
     "text": [
      "\n",
      "Levene test p-value: 0.18052629031702622\n"
     ]
    }
   ],
   "source": [
    "#Levene test\n",
    "lev_stat, lev_p = levene(store1, store2)\n",
    "print(\"\\nLevene test p-value:\", lev_p)"
   ]
  },
  {
   "cell_type": "code",
   "execution_count": 30,
   "id": "3cbd26bc-70c8-401a-939f-c92dd9f2070e",
   "metadata": {},
   "outputs": [
    {
     "name": "stdout",
     "output_type": "stream",
     "text": [
      "\n",
      "Welch’s t-test results:\n",
      "t-statistic: -15.583750600858258\n",
      "p-value: 1.6097873400721473e-38\n"
     ]
    }
   ],
   "source": [
    "#Independent t-test\n",
    "t_stat, p_val = ttest_ind(store1, store2, equal_var=False)\n",
    "print(\"\\nWelch’s t-test results:\")\n",
    "print(\"t-statistic:\", t_stat)\n",
    "print(\"p-value:\", p_val)\n"
   ]
  },
  {
   "cell_type": "code",
   "execution_count": 28,
   "id": "cc996adf-f0ef-4585-b195-94dab8ee77cb",
   "metadata": {},
   "outputs": [
    {
     "name": "stdout",
     "output_type": "stream",
     "text": [
      "\n",
      "Conclusion: Reject the null hypothesis.\n",
      "=> The average weekly sales between Store 1 and Store 2 are significantly different.\n"
     ]
    }
   ],
   "source": [
    "#Interpretation\n",
    "alpha = 0.05\n",
    "if p_val < alpha:\n",
    "    print(\"\\nConclusion: Reject the null hypothesis.\")\n",
    "    print(\"=> The average weekly sales between Store 1 and Store 2 are significantly different.\")\n",
    "else:\n",
    "    print(\"\\nConclusion: Fail to reject the null hypothesis.\")\n",
    "    print(\"=> No significant difference in average weekly sales between the two stores.\")"
   ]
  },
  {
   "cell_type": "code",
   "execution_count": null,
   "id": "474ed4ad-b8a5-4b08-8933-29c40287b8ce",
   "metadata": {},
   "outputs": [],
   "source": []
  }
 ],
 "metadata": {
  "kernelspec": {
   "display_name": "Python [conda env:base] *",
   "language": "python",
   "name": "conda-base-py"
  },
  "language_info": {
   "codemirror_mode": {
    "name": "ipython",
    "version": 3
   },
   "file_extension": ".py",
   "mimetype": "text/x-python",
   "name": "python",
   "nbconvert_exporter": "python",
   "pygments_lexer": "ipython3",
   "version": "3.12.4"
  }
 },
 "nbformat": 4,
 "nbformat_minor": 5
}
